{
 "cells": [
  {
   "cell_type": "markdown",
   "metadata": {},
   "source": [
    "# Entrada y salida de datos"
   ]
  },
  {
   "cell_type": "code",
   "execution_count": 1,
   "metadata": {},
   "outputs": [
    {
     "name": "stdout",
     "output_type": "stream",
     "text": [
      "Hola soy Karen Gómez\n"
     ]
    }
   ],
   "source": [
    "print (\"Hola soy Karen Gómez\")"
   ]
  },
  {
   "cell_type": "code",
   "execution_count": 2,
   "metadata": {},
   "outputs": [
    {
     "name": "stdout",
     "output_type": "stream",
     "text": [
      "5\n"
     ]
    }
   ],
   "source": [
    "x=5\n",
    "print (x)"
   ]
  },
  {
   "cell_type": "code",
   "execution_count": 5,
   "metadata": {},
   "outputs": [
    {
     "name": "stdout",
     "output_type": "stream",
     "text": [
      "Hola la variable es 5\n"
     ]
    }
   ],
   "source": [
    "print (\"Hola la variable es \"+ str(x))"
   ]
  },
  {
   "cell_type": "code",
   "execution_count": 6,
   "metadata": {},
   "outputs": [
    {
     "name": "stdout",
     "output_type": "stream",
     "text": [
      "Cual es tu nombre:Karen Gomez\n"
     ]
    }
   ],
   "source": [
    "texto=input (\"Cual es tu nombre:\")"
   ]
  },
  {
   "cell_type": "code",
   "execution_count": 7,
   "metadata": {},
   "outputs": [
    {
     "data": {
      "text/plain": [
       "'Karen Gomez'"
      ]
     },
     "execution_count": 7,
     "metadata": {},
     "output_type": "execute_result"
    }
   ],
   "source": [
    "texto"
   ]
  },
  {
   "cell_type": "code",
   "execution_count": 8,
   "metadata": {},
   "outputs": [
    {
     "name": "stdout",
     "output_type": "stream",
     "text": [
      " Cual es tu edad30\n"
     ]
    }
   ],
   "source": [
    "x = int(input (\" Cual es tu edad: \"))"
   ]
  },
  {
   "cell_type": "code",
   "execution_count": 9,
   "metadata": {},
   "outputs": [
    {
     "data": {
      "text/plain": [
       "60"
      ]
     },
     "execution_count": 9,
     "metadata": {},
     "output_type": "execute_result"
    }
   ],
   "source": [
    "2* x"
   ]
  },
  {
   "cell_type": "code",
   "execution_count": 10,
   "metadata": {},
   "outputs": [],
   "source": [
    "x= \"Hola tu\""
   ]
  },
  {
   "cell_type": "code",
   "execution_count": 11,
   "metadata": {},
   "outputs": [
    {
     "name": "stdout",
     "output_type": "stream",
     "text": [
      "Hola tu\n"
     ]
    }
   ],
   "source": [
    "print(x)"
   ]
  },
  {
   "cell_type": "markdown",
   "metadata": {},
   "source": [
    "# Operadores de decisión\n",
    "si condición booleana:\n",
    "    código que se ejeucta si la condición es verdad\n",
    "    Siguiente condigo no se ejecuta siempre"
   ]
  },
  {
   "cell_type": "code",
   "execution_count": 13,
   "metadata": {},
   "outputs": [
    {
     "name": "stdout",
     "output_type": "stream",
     "text": [
      "Escribe un numero:5\n"
     ]
    }
   ],
   "source": [
    "x = int (input(\"Escribe un numero:\"))"
   ]
  },
  {
   "cell_type": "code",
   "execution_count": 15,
   "metadata": {},
   "outputs": [
    {
     "name": "stdout",
     "output_type": "stream",
     "text": [
      "Has escrito el número 5\n"
     ]
    }
   ],
   "source": [
    "if x == 5:\n",
    "    print (\"Has escrito el número 5\")"
   ]
  },
  {
   "cell_type": "code",
   "execution_count": 18,
   "metadata": {},
   "outputs": [
    {
     "name": "stdout",
     "output_type": "stream",
     "text": [
      "Escribe un numero 5\n",
      "Has escrito un número menor que 10 y mayor igual a 5\n"
     ]
    }
   ],
   "source": [
    "x= int (input (\"Escribe un numero \"))\n",
    "if x < 5:\n",
    "    print (\"Has escrito un número menor que 5\")\n",
    "elif x < 10:\n",
    "    print (\"Has escrito un número menor que 10 y mayor igual a 5\")\n",
    "else:\n",
    "    print (\"El número que has escrito es mayor o igual que 10\")"
   ]
  },
  {
   "cell_type": "code",
   "execution_count": 20,
   "metadata": {},
   "outputs": [
    {
     "name": "stdout",
     "output_type": "stream",
     "text": [
      "Escribe un número: 5\n",
      "Has escrito un número en el rango de [0, 10]\n"
     ]
    }
   ],
   "source": [
    "x = int (input (\"Escribe un número: \"))\n",
    "if x>0 and x <10:\n",
    "    print (\"Has escrito un número en el rango de [0, 10]\")"
   ]
  },
  {
   "cell_type": "code",
   "execution_count": 22,
   "metadata": {},
   "outputs": [
    {
     "name": "stdout",
     "output_type": "stream",
     "text": [
      "Escribe un número: 52\n",
      "Tu número escrito no se encuentra dentro del rango [0, 10]\n"
     ]
    }
   ],
   "source": [
    "x= int (input (\"Escribe un número: \"))\n",
    "if x<0 or x>10:\n",
    "    print(\"Tu número escrito no se encuentra dentro del rango [0, 10]\")"
   ]
  }
 ],
 "metadata": {
  "kernelspec": {
   "display_name": "Python 3",
   "language": "python",
   "name": "python3"
  },
  "language_info": {
   "codemirror_mode": {
    "name": "ipython",
    "version": 3
   },
   "file_extension": ".py",
   "mimetype": "text/x-python",
   "name": "python",
   "nbconvert_exporter": "python",
   "pygments_lexer": "ipython3",
   "version": "3.8.5"
  }
 },
 "nbformat": 4,
 "nbformat_minor": 4
}
